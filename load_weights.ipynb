{
 "cells": [
  {
   "cell_type": "code",
   "execution_count": 1,
   "id": "785d5d1d",
   "metadata": {},
   "outputs": [
    {
     "ename": "NameError",
     "evalue": "name 'torch' is not defined",
     "output_type": "error",
     "traceback": [
      "\u001b[1;31m---------------------------------------------------------------------------\u001b[0m",
      "\u001b[1;31mNameError\u001b[0m                                 Traceback (most recent call last)",
      "Cell \u001b[1;32mIn[1], line 4\u001b[0m\n\u001b[0;32m      1\u001b[0m weights_path \u001b[38;5;241m=\u001b[39m \u001b[38;5;124m\"\u001b[39m\u001b[38;5;124mbest_model_weights.pth\u001b[39m\u001b[38;5;124m\"\u001b[39m\n\u001b[0;32m      3\u001b[0m \u001b[38;5;66;03m# Сохранение весов\u001b[39;00m\n\u001b[1;32m----> 4\u001b[0m torch\u001b[38;5;241m.\u001b[39msave(best_model_weights, weights_path)\n\u001b[0;32m      6\u001b[0m \u001b[38;5;28mprint\u001b[39m(\u001b[38;5;124m\"\u001b[39m\u001b[38;5;124mВеса лучшей модели сохранены в\u001b[39m\u001b[38;5;124m\"\u001b[39m, weights_path)\n",
      "\u001b[1;31mNameError\u001b[0m: name 'torch' is not defined"
     ]
    }
   ],
   "source": [
    "weights_path = \"best_model_weights.pth\"\n",
    "\n",
    "# Сохранение весов\n",
    "torch.save(best_model_weights, weights_path)\n",
    "\n",
    "print(\"Веса лучшей модели сохранены в\", weights_path)"
   ]
  },
  {
   "cell_type": "code",
   "execution_count": 2,
   "id": "4c7d77ae",
   "metadata": {},
   "outputs": [
    {
     "ename": "NameError",
     "evalue": "name 'timm' is not defined",
     "output_type": "error",
     "traceback": [
      "\u001b[1;31m---------------------------------------------------------------------------\u001b[0m",
      "\u001b[1;31mNameError\u001b[0m                                 Traceback (most recent call last)",
      "Cell \u001b[1;32mIn[2], line 1\u001b[0m\n\u001b[1;32m----> 1\u001b[0m new_model \u001b[38;5;241m=\u001b[39m timm\u001b[38;5;241m.\u001b[39mcreate_model(\u001b[38;5;124m'\u001b[39m\u001b[38;5;124mefficientnet_b3\u001b[39m\u001b[38;5;124m'\u001b[39m, pretrained\u001b[38;5;241m=\u001b[39m\u001b[38;5;28;01mTrue\u001b[39;00m)\n\u001b[0;32m      3\u001b[0m num_classes \u001b[38;5;241m=\u001b[39m \u001b[38;5;241m500\u001b[39m\n\u001b[0;32m      4\u001b[0m new_model\u001b[38;5;241m.\u001b[39mclassifier \u001b[38;5;241m=\u001b[39m nn\u001b[38;5;241m.\u001b[39mLinear(in_features\u001b[38;5;241m=\u001b[39mnew_model\u001b[38;5;241m.\u001b[39mclassifier\u001b[38;5;241m.\u001b[39min_features, out_features\u001b[38;5;241m=\u001b[39mnum_classes, bias\u001b[38;5;241m=\u001b[39m\u001b[38;5;28;01mTrue\u001b[39;00m)\n",
      "\u001b[1;31mNameError\u001b[0m: name 'timm' is not defined"
     ]
    }
   ],
   "source": [
    "new_model = timm.create_model('efficientnet_b3', pretrained=True)\n",
    "\n",
    "num_classes = 500\n",
    "new_model.classifier = nn.Linear(in_features=new_model.classifier.in_features, out_features=num_classes, bias=True)\n",
    "\n",
    "device = torch.device('cuda' if torch.cuda.is_available() else 'cpu')\n",
    "new_model.to(device);"
   ]
  },
  {
   "cell_type": "code",
   "execution_count": 3,
   "id": "81164433",
   "metadata": {},
   "outputs": [
    {
     "ename": "NameError",
     "evalue": "name 'torch' is not defined",
     "output_type": "error",
     "traceback": [
      "\u001b[1;31m---------------------------------------------------------------------------\u001b[0m",
      "\u001b[1;31mNameError\u001b[0m                                 Traceback (most recent call last)",
      "Cell \u001b[1;32mIn[3], line 2\u001b[0m\n\u001b[0;32m      1\u001b[0m \u001b[38;5;66;03m# Загрузка весов из файла\u001b[39;00m\n\u001b[1;32m----> 2\u001b[0m loaded_weights \u001b[38;5;241m=\u001b[39m torch\u001b[38;5;241m.\u001b[39mload(weights_path)\n\u001b[0;32m      4\u001b[0m \u001b[38;5;66;03m# Применение весов к модели\u001b[39;00m\n\u001b[0;32m      5\u001b[0m new_model\u001b[38;5;241m.\u001b[39mload_state_dict(loaded_weights)\n",
      "\u001b[1;31mNameError\u001b[0m: name 'torch' is not defined"
     ]
    }
   ],
   "source": [
    "# Загрузка весов из файла\n",
    "loaded_weights = torch.load(weights_path)\n",
    "\n",
    "# Применение весов к модели\n",
    "new_model.load_state_dict(loaded_weights)\n",
    "\n",
    "print(\"Веса лучшей модели успешно загружены из\", weights_path)\n"
   ]
  },
  {
   "cell_type": "code",
   "execution_count": null,
   "id": "790de052",
   "metadata": {},
   "outputs": [],
   "source": []
  }
 ],
 "metadata": {
  "kernelspec": {
   "display_name": "Python 3 (ipykernel)",
   "language": "python",
   "name": "python3"
  },
  "language_info": {
   "codemirror_mode": {
    "name": "ipython",
    "version": 3
   },
   "file_extension": ".py",
   "mimetype": "text/x-python",
   "name": "python",
   "nbconvert_exporter": "python",
   "pygments_lexer": "ipython3",
   "version": "3.11.5"
  }
 },
 "nbformat": 4,
 "nbformat_minor": 5
}
